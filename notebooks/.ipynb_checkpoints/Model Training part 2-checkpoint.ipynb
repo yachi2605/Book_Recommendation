{
 "cells": [
  {
   "cell_type": "markdown",
   "id": "1a65e3ec-3baa-41d5-97c4-d9098ca4334a",
   "metadata": {},
   "source": [
    "# Model Training - Part 2"
   ]
  },
  {
   "cell_type": "markdown",
   "id": "3000be68-61e8-4c5c-bb74-91362859b442",
   "metadata": {},
   "source": [
    "## Collaborative filtering"
   ]
  },
  {
   "cell_type": "markdown",
   "id": "a01439bd-7484-420a-8c05-8f5c675e0125",
   "metadata": {},
   "source": [
    "by: [Yachi Darji](https://www.linkedin.com/in/yachi-darji/)"
   ]
  },
  {
   "cell_type": "markdown",
   "id": "a6cd6af1-61e3-425d-9c2c-6d59c9d25e43",
   "metadata": {},
   "source": [
    "### Import Libraries"
   ]
  },
  {
   "cell_type": "code",
   "execution_count": 1,
   "id": "d5e15371-723c-4133-ae4c-e624ff1acd0c",
   "metadata": {},
   "outputs": [],
   "source": [
    "import warnings\n",
    "warnings.filterwarnings('ignore')\n",
    "\n",
    "import pandas as pd\n",
    "import numpy as np\n",
    "import matplotlib.pyplot as plt\n",
    "import seaborn as sns\n",
    "\n",
    "# for collaborative filtering\n",
    "\n",
    "import os\n",
    "import math\n",
    "import random\n",
    "\n",
    "from surprise import accuracy, Reader, Dataset, dump\n",
    "from surprise import NormalPredictor, KNNBasic, SVD, SVDpp\n",
    "from surprise.model_selection import cross_validate, GridSearchCV\n"
   ]
  },
  {
   "cell_type": "code",
   "execution_count": 2,
   "id": "fc0cfa7b-42ce-46fa-b67c-97c8cc2369e3",
   "metadata": {},
   "outputs": [],
   "source": [
    "rating=pd.read_csv(\"C:/Users/yachi/final/myproject/Data/ratings.csv\")\n",
    "book=pd.read_csv(\"C:/Users/yachi/final/myproject/Data/final_Data.csv\")\n"
   ]
  },
  {
   "cell_type": "markdown",
   "id": "0c02c216-16b4-4c70-b00e-728bcedbbfdc",
   "metadata": {},
   "source": [
    "where  :\n",
    "\n",
    "* v=number of ratings(`rating_count`)\n",
    "* m=minimum `ratings_count` required to be recommended\n",
    "* R= average of ratings(`average_rating`)\n",
    "* C=the mean ratings for all books"
   ]
  },
  {
   "cell_type": "markdown",
   "id": "97eef520-02a4-4fc3-880d-987d99a80a41",
   "metadata": {},
   "source": [
    "Now, let's determine the appropriate value for m, the number of votes needed to be listed in the chart. for this simple recommeder, our cutoff will be the 95th percentile. In order for a book to appear in the recommendation, it must recieve at least 95% of the other books on the list (around 2100 ratings)."
   ]
  },
  {
   "cell_type": "code",
   "execution_count": 3,
   "id": "3fa59c96-235d-4125-b0f6-cc09defad2fe",
   "metadata": {},
   "outputs": [],
   "source": [
    "def simple_recommender(book_data,n=5):\n",
    "    v=book['ratings_count']\n",
    "    m=book['ratings_count'].quantile(0.95)\n",
    "    R=book['average_rating']\n",
    "    C=book['average_rating'].mean()\n",
    "    score=((v/(v+m))*R) + ((m/(v+m))*C)\n",
    "    book['score']=score\n",
    "\n",
    "    qualified=book.sort_values('score',ascending=False)\n",
    "    return qualified[['book_id','title','authors','average_rating','ratings_count','score']].head(n)"
   ]
  },
  {
   "cell_type": "code",
   "execution_count": 4,
   "id": "d6f3d52b-2547-4380-a188-d09bcb3439c3",
   "metadata": {},
   "outputs": [
    {
     "data": {
      "text/html": [
       "<div>\n",
       "<style scoped>\n",
       "    .dataframe tbody tr th:only-of-type {\n",
       "        vertical-align: middle;\n",
       "    }\n",
       "\n",
       "    .dataframe tbody tr th {\n",
       "        vertical-align: top;\n",
       "    }\n",
       "\n",
       "    .dataframe thead th {\n",
       "        text-align: right;\n",
       "    }\n",
       "</style>\n",
       "<table border=\"1\" class=\"dataframe\">\n",
       "  <thead>\n",
       "    <tr style=\"text-align: right;\">\n",
       "      <th></th>\n",
       "      <th>book_id</th>\n",
       "      <th>title</th>\n",
       "      <th>authors</th>\n",
       "      <th>average_rating</th>\n",
       "      <th>ratings_count</th>\n",
       "      <th>score</th>\n",
       "    </tr>\n",
       "  </thead>\n",
       "  <tbody>\n",
       "    <tr>\n",
       "      <th>21</th>\n",
       "      <td>25</td>\n",
       "      <td>harry potter and the deathly hallows (harry po...</td>\n",
       "      <td>J.K. Rowling</td>\n",
       "      <td>4.61</td>\n",
       "      <td>1746574</td>\n",
       "      <td>4.555956</td>\n",
       "    </tr>\n",
       "    <tr>\n",
       "      <th>23</th>\n",
       "      <td>27</td>\n",
       "      <td>harry potter and the half-blood prince (harry ...</td>\n",
       "      <td>J.K. Rowling</td>\n",
       "      <td>4.54</td>\n",
       "      <td>1678823</td>\n",
       "      <td>4.490428</td>\n",
       "    </tr>\n",
       "    <tr>\n",
       "      <th>15</th>\n",
       "      <td>18</td>\n",
       "      <td>harry potter and the prisoner of azkaban (harr...</td>\n",
       "      <td>J.K. Rowling</td>\n",
       "      <td>4.53</td>\n",
       "      <td>1832823</td>\n",
       "      <td>4.485090</td>\n",
       "    </tr>\n",
       "    <tr>\n",
       "      <th>20</th>\n",
       "      <td>24</td>\n",
       "      <td>harry potter and the goblet of fire (harry pot...</td>\n",
       "      <td>J.K. Rowling</td>\n",
       "      <td>4.53</td>\n",
       "      <td>1753043</td>\n",
       "      <td>4.483227</td>\n",
       "    </tr>\n",
       "    <tr>\n",
       "      <th>1</th>\n",
       "      <td>2</td>\n",
       "      <td>harry potter and the sorcerer's stone (harry p...</td>\n",
       "      <td>J.K. Rowling</td>\n",
       "      <td>4.44</td>\n",
       "      <td>4602479</td>\n",
       "      <td>4.424365</td>\n",
       "    </tr>\n",
       "  </tbody>\n",
       "</table>\n",
       "</div>"
      ],
      "text/plain": [
       "    book_id                                              title       authors  \\\n",
       "21       25  harry potter and the deathly hallows (harry po...  J.K. Rowling   \n",
       "23       27  harry potter and the half-blood prince (harry ...  J.K. Rowling   \n",
       "15       18  harry potter and the prisoner of azkaban (harr...  J.K. Rowling   \n",
       "20       24  harry potter and the goblet of fire (harry pot...  J.K. Rowling   \n",
       "1         2  harry potter and the sorcerer's stone (harry p...  J.K. Rowling   \n",
       "\n",
       "    average_rating  ratings_count     score  \n",
       "21            4.61        1746574  4.555956  \n",
       "23            4.54        1678823  4.490428  \n",
       "15            4.53        1832823  4.485090  \n",
       "20            4.53        1753043  4.483227  \n",
       "1             4.44        4602479  4.424365  "
      ]
     },
     "execution_count": 4,
     "metadata": {},
     "output_type": "execute_result"
    }
   ],
   "source": [
    "simple_recommender(book)"
   ]
  },
  {
   "cell_type": "markdown",
   "id": "00e93253-8776-4290-8a71-f6d9d275fe80",
   "metadata": {},
   "source": [
    "This system offers generalized recommendations to every user based on popularity and average rating of the book. The recommender some flaws. For example, it makes the same suggestion to everyone, regardless of their own preferences. The top of our chart is full with J.K. Rowling's Harry Potter novels.\n",
    "\n",
    "In order to personalize of our recommendations, we are going to create recommendation system that compares books based on a set of metrics and suggests books that are most similar to a particular book that a user liked."
   ]
  },
  {
   "cell_type": "markdown",
   "id": "97756e9f-c560-46cd-b388-2a2b19d344c6",
   "metadata": {},
   "source": [
    "### 3. Collaborative Filtering"
   ]
  },
  {
   "cell_type": "markdown",
   "id": "af3b806a-7823-40fd-9f56-d2ba214b4528",
   "metadata": {},
   "source": [
    "This system suggests book to users based on past reading history and collaboration of other users' preferences. This recommender systems provides personalized recommendation. In this notebook, I will use [Surprise](https://surpriselib.com/) library to make the recommendation system. Surprise is a Python scikit for building and analyzing recommender systems that deal with explicit rating data. I will try to fit into 4 model and evaluate by using RMSE value. The model I use:\n",
    "1. **Normal Predictor**\n",
    "2. **KNN** (Memory-based)\n",
    "3. **SVD** (Model-based)\n",
    "4. **SVD++** (Model-based)\n",
    "\n",
    "Since the calculation is taking to much memory, I dump the calculation file in order to reuse it for comparison. I will also test all the recommendation system to user 12874. This user is one of the user that give many ratings."
   ]
  },
  {
   "cell_type": "code",
   "execution_count": 3,
   "id": "a19099fd-32ba-4b9a-8398-831c5373acf0",
   "metadata": {},
   "outputs": [],
   "source": [
    "#to have reproducible experiments\n",
    "my_seed = 0\n",
    "random.seed(my_seed)\n",
    "np.random.seed(my_seed)\n",
    "\n",
    "#Load the full dataset\n",
    "reader = Reader(rating_scale=(1,5))\n",
    "data = Dataset.load_from_df(rating, reader)\n",
    "\n",
    "#shuffle the ratings for unbiased result\n",
    "all_ratings = data.raw_ratings\n",
    "random.shuffle(all_ratings)\n",
    "\n",
    "#split data into train and test data with the ratio 70:30\n",
    "threshold = int(0.7 * len(all_ratings))\n",
    "train_ratings = all_ratings[:threshold]\n",
    "test_ratings = all_ratings[threshold:]\n",
    "\n",
    "def book_read(user_id):\n",
    "        '''Take user_id and return list of book that user has read'''\n",
    "        books_list = list(book['book_id'])\n",
    "        book_read_list = list(rating['book_id'][rating['user_id'] == user_id])\n",
    "        return books_list, book_read_list"
   ]
  },
  {
   "cell_type": "markdown",
   "id": "5c4bcce2-2076-4c69-a2de-f6aec0ef362b",
   "metadata": {},
   "source": [
    "#### a. Normal Predictor"
   ]
  },
  {
   "cell_type": "markdown",
   "id": "6a4af2e3-6a33-4a41-9810-119c923d2062",
   "metadata": {},
   "source": [
    "Algorithm predicting a random rating based on the distribution of the training set, which is assumed to be normal."
   ]
  },
  {
   "cell_type": "code",
   "execution_count": 5,
   "id": "c38fb879-3d6b-4889-8f86-b2f7feeeb165",
   "metadata": {},
   "outputs": [],
   "source": [
    "# prepare train data\n",
    "data.raw_ratings = train_ratings\n",
    "\n",
    "#select algorithm\n",
    "npred = NormalPredictor()"
   ]
  },
  {
   "cell_type": "code",
   "execution_count": 6,
   "id": "5b4a6280-844b-4ddd-9ea3-5fa937f1a9a4",
   "metadata": {},
   "outputs": [
    {
     "name": "stdout",
     "output_type": "stream",
     "text": [
      "Evaluating RMSE of algorithm NormalPredictor on 5 split(s).\n",
      "\n",
      "                  Fold 1  Fold 2  Fold 3  Fold 4  Fold 5  Mean    Std     \n",
      "RMSE (testset)    1.3250  1.3240  1.3237  1.3237  1.3242  1.3241  0.0005  \n",
      "Fit time          9.21    9.66    8.70    9.42    8.95    9.19    0.34    \n",
      "Test time         15.18   14.21   14.80   14.47   13.55   14.44   0.55    \n",
      "CPU times: total: 1min 54s\n",
      "Wall time: 3min 42s\n"
     ]
    }
   ],
   "source": [
    "%%time\n",
    "\n",
    "#cross validation for train data\n",
    "np_result = cross_validate(npred, data, measures=['RMSE'], cv=5, verbose=True, n_jobs=2)"
   ]
  },
  {
   "cell_type": "markdown",
   "id": "0ea68bc6-3c8a-41df-9d74-c247dce8beeb",
   "metadata": {},
   "source": [
    "In order to make prediction on test data, we have to retrain whole train set first."
   ]
  },
  {
   "cell_type": "code",
   "execution_count": 7,
   "id": "6495ae11-d66b-435f-93e6-a44cb74b715a",
   "metadata": {},
   "outputs": [
    {
     "name": "stdout",
     "output_type": "stream",
     "text": [
      "Train RMSE:\n",
      "RMSE: 1.3233\n",
      "Test RMSE:\n",
      "RMSE: 1.3236\n",
      "CPU times: total: 1min 34s\n",
      "Wall time: 2min 55s\n"
     ]
    }
   ],
   "source": [
    "%%time\n",
    "#retrain whole train test\n",
    "trainset = data.build_full_trainset()\n",
    "npred.fit(trainset)\n",
    "\n",
    "# Compute RMSE on trainset (without fold)\n",
    "np_train_pred = npred.test(trainset.build_testset())\n",
    "print('Train RMSE:')\n",
    "train_rmse = accuracy.rmse(np_train_pred)\n",
    "\n",
    "#compute RMSE on testset\n",
    "testset = data.construct_testset(test_ratings)\n",
    "np_test_pred = npred.test(testset)\n",
    "print('Test RMSE:')\n",
    "test_rmse = accuracy.rmse(np_test_pred)"
   ]
  },
  {
   "cell_type": "code",
   "execution_count": 8,
   "id": "a2e909b5-8707-4b23-8fac-5c410dd4f579",
   "metadata": {},
   "outputs": [
    {
     "name": "stdout",
     "output_type": "stream",
     "text": [
      "CPU times: total: 26.9 s\n",
      "Wall time: 48.1 s\n"
     ]
    },
    {
     "data": {
      "text/plain": [
       "<surprise.prediction_algorithms.random_pred.NormalPredictor at 0x270e4e5d450>"
      ]
     },
     "execution_count": 8,
     "metadata": {},
     "output_type": "execute_result"
    }
   ],
   "source": [
    "%%time\n",
    "\n",
    "data.raw_ratings = all_ratings\n",
    "npred.fit(data.build_full_trainset())"
   ]
  },
  {
   "cell_type": "code",
   "execution_count": 9,
   "id": "167eeb97-4d41-4ff1-9602-27e2c2a55747",
   "metadata": {},
   "outputs": [],
   "source": [
    "def get_recommendation_npred(user_id, n=5):\n",
    "    '''Give n recommendation to user_id'''\n",
    "    \n",
    "    all_books, user_books =  book_read(user_id)\n",
    "    next_books = [i for i in all_books if i not in user_books]\n",
    "    \n",
    "    if n <= len(next_books):\n",
    "        ratings = []\n",
    "        for i in next_books:\n",
    "            est = npred.predict(user_id, i).est\n",
    "            ratings.append((i, est))\n",
    "        ratings = sorted(ratings, key=lambda x: x[1], reverse=True)\n",
    "        book_ids = [id for id, rate in ratings[:n]]\n",
    "        return book[book.book_id.isin(book_ids)][['book_id', 'title', 'authors', 'average_rating', 'ratings_count']]\n",
    "    else:\n",
    "        print('Please reduce your recommendation request')\n",
    "        return"
   ]
  },
  {
   "cell_type": "code",
   "execution_count": 10,
   "id": "6dd1f4d7-8870-4e27-8a05-01d96fbd5ac0",
   "metadata": {},
   "outputs": [
    {
     "data": {
      "text/html": [
       "<div>\n",
       "<style scoped>\n",
       "    .dataframe tbody tr th:only-of-type {\n",
       "        vertical-align: middle;\n",
       "    }\n",
       "\n",
       "    .dataframe tbody tr th {\n",
       "        vertical-align: top;\n",
       "    }\n",
       "\n",
       "    .dataframe thead th {\n",
       "        text-align: right;\n",
       "    }\n",
       "</style>\n",
       "<table border=\"1\" class=\"dataframe\">\n",
       "  <thead>\n",
       "    <tr style=\"text-align: right;\">\n",
       "      <th></th>\n",
       "      <th>book_id</th>\n",
       "      <th>title</th>\n",
       "      <th>authors</th>\n",
       "      <th>average_rating</th>\n",
       "      <th>ratings_count</th>\n",
       "    </tr>\n",
       "  </thead>\n",
       "  <tbody>\n",
       "    <tr>\n",
       "      <th>0</th>\n",
       "      <td>1</td>\n",
       "      <td>the hunger games (the hunger games, #1)</td>\n",
       "      <td>Suzanne Collins</td>\n",
       "      <td>4.34</td>\n",
       "      <td>4780653</td>\n",
       "    </tr>\n",
       "    <tr>\n",
       "      <th>3</th>\n",
       "      <td>4</td>\n",
       "      <td>to kill a mockingbird</td>\n",
       "      <td>Harper Lee</td>\n",
       "      <td>4.25</td>\n",
       "      <td>3198671</td>\n",
       "    </tr>\n",
       "    <tr>\n",
       "      <th>14</th>\n",
       "      <td>17</td>\n",
       "      <td>catching fire (the hunger games, #2)</td>\n",
       "      <td>Suzanne Collins</td>\n",
       "      <td>4.30</td>\n",
       "      <td>1831039</td>\n",
       "    </tr>\n",
       "    <tr>\n",
       "      <th>32</th>\n",
       "      <td>37</td>\n",
       "      <td>the lion, the witch, and the wardrobe (chronic...</td>\n",
       "      <td>C.S. Lewis</td>\n",
       "      <td>4.19</td>\n",
       "      <td>1531800</td>\n",
       "    </tr>\n",
       "    <tr>\n",
       "      <th>33</th>\n",
       "      <td>38</td>\n",
       "      <td>the time traveler's wife</td>\n",
       "      <td>Audrey Niffenegger</td>\n",
       "      <td>3.95</td>\n",
       "      <td>746287</td>\n",
       "    </tr>\n",
       "  </tbody>\n",
       "</table>\n",
       "</div>"
      ],
      "text/plain": [
       "    book_id                                              title  \\\n",
       "0         1            the hunger games (the hunger games, #1)   \n",
       "3         4                              to kill a mockingbird   \n",
       "14       17               catching fire (the hunger games, #2)   \n",
       "32       37  the lion, the witch, and the wardrobe (chronic...   \n",
       "33       38                           the time traveler's wife   \n",
       "\n",
       "               authors  average_rating  ratings_count  \n",
       "0      Suzanne Collins            4.34        4780653  \n",
       "3           Harper Lee            4.25        3198671  \n",
       "14     Suzanne Collins            4.30        1831039  \n",
       "32          C.S. Lewis            4.19        1531800  \n",
       "33  Audrey Niffenegger            3.95         746287  "
      ]
     },
     "execution_count": 10,
     "metadata": {},
     "output_type": "execute_result"
    }
   ],
   "source": [
    "get_recommendation_npred(2)"
   ]
  },
  {
   "cell_type": "markdown",
   "id": "f9603486-2b17-4f71-9508-4ef70da0746d",
   "metadata": {},
   "source": [
    "#### b. K-Nearest Neighbour"
   ]
  },
  {
   "cell_type": "markdown",
   "id": "1837e8b3-2a95-404d-b18e-5fde9a22b4ab",
   "metadata": {},
   "source": [
    "\n",
    "These are algorithms that are directly derived from a basic nearest neighbors approach."
   ]
  },
  {
   "cell_type": "code",
   "execution_count": 28,
   "id": "f9b350e2-512c-469b-8964-fc773af299ad",
   "metadata": {},
   "outputs": [],
   "source": [
    "#change data to trainset\n",
    "data.raw_ratings = train_ratings \n",
    "\n",
    "#select algorithm\n",
    "sim_options = {\"name\": \"cosine\",\n",
    "               \"user_based\": False}\n",
    "knn = KNNBasic(sim_options=sim_options)"
   ]
  },
  {
   "cell_type": "code",
   "execution_count": 29,
   "id": "71c2f0e7-b7f2-4ff0-a3e8-a8ce191154f5",
   "metadata": {},
   "outputs": [
    {
     "name": "stdout",
     "output_type": "stream",
     "text": [
      "Computing the cosine similarity matrix...\n",
      "Done computing similarity matrix.\n",
      "Computing the cosine similarity matrix...\n",
      "Done computing similarity matrix.\n",
      "Computing the cosine similarity matrix...\n",
      "Done computing similarity matrix.\n",
      "Computing the cosine similarity matrix...\n",
      "Done computing similarity matrix.\n",
      "Computing the cosine similarity matrix...\n",
      "Done computing similarity matrix.\n",
      "Evaluating RMSE of algorithm KNNBasic on 5 split(s).\n",
      "\n",
      "                  Fold 1  Fold 2  Fold 3  Fold 4  Fold 5  Mean    Std     \n",
      "RMSE (testset)    0.8876  0.8883  0.8859  0.8878  0.8875  0.8874  0.0008  \n",
      "Fit time          79.58   139.13  54.51   87.04   54.73   83.00   30.95   \n",
      "Test time         184.65  128.23  205.05  122.46  114.13  150.90  36.73   \n",
      "CPU times: total: 14min 4s\n",
      "Wall time: 21min 10s\n"
     ]
    }
   ],
   "source": [
    "%%time\n",
    "\n",
    "#cross validation for train data\n",
    "knn_result = cross_validate(knn, data, measures=['RMSE'], cv=5, verbose=True, n_jobs = 1)"
   ]
  },
  {
   "cell_type": "code",
   "execution_count": 30,
   "id": "5b3d06b0-079a-40ac-9903-8f376b08f23d",
   "metadata": {},
   "outputs": [
    {
     "name": "stdout",
     "output_type": "stream",
     "text": [
      "Computing the cosine similarity matrix...\n",
      "Done computing similarity matrix.\n",
      "Train RMSE:\n",
      "RMSE: 0.8001\n",
      "Test RMSE:\n",
      "RMSE: 0.8851\n",
      "CPU times: total: 13min 37s\n",
      "Wall time: 15min 15s\n"
     ]
    }
   ],
   "source": [
    "%%time\n",
    "\n",
    "#retrain whole train test\n",
    "trainset = data.build_full_trainset()\n",
    "knn.fit(trainset)\n",
    "\n",
    "# Compute RMSE on trainset (without fold)\n",
    "knn_train_pred = knn.test(trainset.build_testset())\n",
    "print('Train RMSE:')\n",
    "train_rmse = accuracy.rmse(knn_train_pred)\n",
    "\n",
    "#compute RMSE on testset\n",
    "testset = data.construct_testset(test_ratings)\n",
    "knn_test_pred = knn.test(testset)\n",
    "print('Test RMSE:')\n",
    "test_rmse = accuracy.rmse(knn_test_pred)"
   ]
  },
  {
   "cell_type": "code",
   "execution_count": 31,
   "id": "68d7ea33-20d3-4d9c-b9d6-aa4e8c9c3b5b",
   "metadata": {},
   "outputs": [],
   "source": [
    "# uncomment this code to dump the calculation result for future use\n",
    "# dump.dump('./dump_knn', knn_test_pred, knn)"
   ]
  },
  {
   "cell_type": "code",
   "execution_count": 32,
   "id": "fba8f91e-7617-4d48-9a89-8703868c88bd",
   "metadata": {},
   "outputs": [
    {
     "name": "stdout",
     "output_type": "stream",
     "text": [
      "Computing the cosine similarity matrix...\n",
      "Done computing similarity matrix.\n",
      "CPU times: total: 2min 47s\n",
      "Wall time: 3min 23s\n"
     ]
    },
    {
     "data": {
      "text/plain": [
       "<surprise.prediction_algorithms.knns.KNNBasic at 0x272fe879610>"
      ]
     },
     "execution_count": 32,
     "metadata": {},
     "output_type": "execute_result"
    }
   ],
   "source": [
    "%%time\n",
    "\n",
    "data.raw_ratings = all_ratings\n",
    "knn.fit(data.build_full_trainset())"
   ]
  },
  {
   "cell_type": "code",
   "execution_count": 33,
   "id": "743bbf21-afc6-4bab-8d71-df03a8897684",
   "metadata": {},
   "outputs": [],
   "source": [
    "def get_recommendation_knn(user_id, n=5):\n",
    "    '''Give n recommendation to user_id'''\n",
    "    \n",
    "    all_books, user_books =  book_read(user_id)\n",
    "    next_books = [i for i in all_books if i not in user_books]\n",
    "    \n",
    "    if n <= len(next_books):\n",
    "        ratings = []\n",
    "        for i in next_books:\n",
    "            est = knn.predict(user_id, i).est\n",
    "            ratings.append((i, est))\n",
    "        ratings = sorted(ratings, key=lambda x: x[1], reverse=True)\n",
    "        book_ids = [id for id, rate in ratings[:n]]\n",
    "        return book[book.book_id.isin(book_ids)][['book_id', 'title', 'authors', 'average_rating', 'ratings_count']]\n",
    "    else:\n",
    "        print('Please reduce your recommendation request')\n",
    "        return"
   ]
  },
  {
   "cell_type": "code",
   "execution_count": 34,
   "id": "e3c73a10-028c-4ce0-bd37-77ac79dbde69",
   "metadata": {},
   "outputs": [
    {
     "data": {
      "text/html": [
       "<div>\n",
       "<style scoped>\n",
       "    .dataframe tbody tr th:only-of-type {\n",
       "        vertical-align: middle;\n",
       "    }\n",
       "\n",
       "    .dataframe tbody tr th {\n",
       "        vertical-align: top;\n",
       "    }\n",
       "\n",
       "    .dataframe thead th {\n",
       "        text-align: right;\n",
       "    }\n",
       "</style>\n",
       "<table border=\"1\" class=\"dataframe\">\n",
       "  <thead>\n",
       "    <tr style=\"text-align: right;\">\n",
       "      <th></th>\n",
       "      <th>book_id</th>\n",
       "      <th>title</th>\n",
       "      <th>authors</th>\n",
       "      <th>average_rating</th>\n",
       "      <th>ratings_count</th>\n",
       "    </tr>\n",
       "  </thead>\n",
       "  <tbody>\n",
       "    <tr>\n",
       "      <th>27</th>\n",
       "      <td>31</td>\n",
       "      <td>the help</td>\n",
       "      <td>Kathryn Stockett</td>\n",
       "      <td>4.45</td>\n",
       "      <td>1531753</td>\n",
       "    </tr>\n",
       "    <tr>\n",
       "      <th>89</th>\n",
       "      <td>98</td>\n",
       "      <td>the girl who played with fire (millennium, #2)</td>\n",
       "      <td>Stieg Larsson</td>\n",
       "      <td>4.22</td>\n",
       "      <td>563994</td>\n",
       "    </tr>\n",
       "    <tr>\n",
       "      <th>103</th>\n",
       "      <td>114</td>\n",
       "      <td>tuesdays with morrie</td>\n",
       "      <td>Mitch Albom</td>\n",
       "      <td>4.06</td>\n",
       "      <td>556518</td>\n",
       "    </tr>\n",
       "    <tr>\n",
       "      <th>118</th>\n",
       "      <td>132</td>\n",
       "      <td>the five people you meet in heaven</td>\n",
       "      <td>Mitch Albom</td>\n",
       "      <td>3.90</td>\n",
       "      <td>449501</td>\n",
       "    </tr>\n",
       "    <tr>\n",
       "      <th>126</th>\n",
       "      <td>140</td>\n",
       "      <td>the girl who kicked the hornet's nest (millenn...</td>\n",
       "      <td>Stieg Larsson</td>\n",
       "      <td>4.20</td>\n",
       "      <td>443951</td>\n",
       "    </tr>\n",
       "  </tbody>\n",
       "</table>\n",
       "</div>"
      ],
      "text/plain": [
       "     book_id                                              title  \\\n",
       "27        31                                           the help   \n",
       "89        98     the girl who played with fire (millennium, #2)   \n",
       "103      114                               tuesdays with morrie   \n",
       "118      132                 the five people you meet in heaven   \n",
       "126      140  the girl who kicked the hornet's nest (millenn...   \n",
       "\n",
       "              authors  average_rating  ratings_count  \n",
       "27   Kathryn Stockett            4.45        1531753  \n",
       "89      Stieg Larsson            4.22         563994  \n",
       "103       Mitch Albom            4.06         556518  \n",
       "118       Mitch Albom            3.90         449501  \n",
       "126     Stieg Larsson            4.20         443951  "
      ]
     },
     "execution_count": 34,
     "metadata": {},
     "output_type": "execute_result"
    }
   ],
   "source": [
    "get_recommendation_knn(12874, 5)"
   ]
  },
  {
   "cell_type": "markdown",
   "id": "11dea493-4504-4644-bef2-19f530d137c8",
   "metadata": {},
   "source": [
    "### c. Singular Value Decomposition (SVD)"
   ]
  },
  {
   "cell_type": "markdown",
   "id": "35510acb-78b3-4c77-b390-fc39bc8d3b19",
   "metadata": {},
   "source": [
    "The famous SVD algorithm, as popularized by Simon Funk during the Netflix Prize. SVD finds the latent factors associated with some matrix. SVD will decompose user-rating matrix into matrices that represents latent user-user features and item-item features."
   ]
  },
  {
   "cell_type": "code",
   "execution_count": 12,
   "id": "66eec826-ea98-46e1-94cc-e3c8fdbd400b",
   "metadata": {},
   "outputs": [],
   "source": [
    "#change data to trainset\n",
    "data.raw_ratings = train_ratings \n",
    "\n",
    "#select algorithm\n",
    "svd = SVD(random_state=0)"
   ]
  },
  {
   "cell_type": "code",
   "execution_count": 13,
   "id": "d9dc32f2-36a7-4653-ad7a-cfc8d1694a96",
   "metadata": {},
   "outputs": [
    {
     "name": "stdout",
     "output_type": "stream",
     "text": [
      "Evaluating RMSE of algorithm SVD on 5 split(s).\n",
      "\n",
      "                  Fold 1  Fold 2  Fold 3  Fold 4  Fold 5  Mean    Std     \n",
      "RMSE (testset)    0.8505  0.8491  0.8501  0.8498  0.8510  0.8501  0.0006  \n",
      "Fit time          104.64  104.84  104.52  103.85  88.28   101.23  6.48    \n",
      "Test time         21.56   22.50   21.15   21.24   16.19   20.53   2.22    \n",
      "CPU times: total: 2min\n",
      "Wall time: 7min 13s\n"
     ]
    }
   ],
   "source": [
    "%%time\n",
    "\n",
    "#cross validation for train data\n",
    "svd_result = cross_validate(svd, data, measures=[\"RMSE\"], cv=5, verbose=True, n_jobs = 2)\n",
    "\n"
   ]
  },
  {
   "cell_type": "code",
   "execution_count": 14,
   "id": "beb8686e-4c00-4085-9622-7ef2fb8bbc3f",
   "metadata": {},
   "outputs": [
    {
     "name": "stdout",
     "output_type": "stream",
     "text": [
      "Train RMSE:\n",
      "RMSE: 0.6441\n",
      "Test RMSE:\n",
      "RMSE: 0.8386\n",
      "CPU times: total: 3min 17s\n",
      "Wall time: 5min 58s\n"
     ]
    }
   ],
   "source": [
    "%%time\n",
    "\n",
    "#retrain whole train test\n",
    "trainset = data.build_full_trainset()\n",
    "svd.fit(trainset)\n",
    "\n",
    "# Compute RMSE on trainset (without fold)\n",
    "svd_train_pred = svd.test(trainset.build_testset())\n",
    "print('Train RMSE:')\n",
    "train_rmse = accuracy.rmse(svd_train_pred)\n",
    "\n",
    "#compute RMSE on testset\n",
    "testset = data.construct_testset(test_ratings)\n",
    "svd_test_pred = svd.test(testset)\n",
    "print('Test RMSE:')\n",
    "test_rmse = accuracy.rmse(svd_test_pred)"
   ]
  },
  {
   "cell_type": "code",
   "execution_count": 15,
   "id": "bcebd8eb-5ff1-434b-acd3-96a7a884cfa7",
   "metadata": {},
   "outputs": [],
   "source": [
    "# uncomment this code to dump the calculation result for future use\n",
    "dump.dump('./dump_svd', svd_test_pred, svd)"
   ]
  },
  {
   "cell_type": "code",
   "execution_count": 16,
   "id": "3d5706d8-b97a-4bd3-b856-fec38b2f47bd",
   "metadata": {},
   "outputs": [
    {
     "name": "stdout",
     "output_type": "stream",
     "text": [
      "CPU times: total: 2min 7s\n",
      "Wall time: 4min 30s\n"
     ]
    },
    {
     "data": {
      "text/plain": [
       "<surprise.prediction_algorithms.matrix_factorization.SVD at 0x271cfa67010>"
      ]
     },
     "execution_count": 16,
     "metadata": {},
     "output_type": "execute_result"
    }
   ],
   "source": [
    "%%time\n",
    "\n",
    "data.raw_ratings = all_ratings\n",
    "svd.fit(data.build_full_trainset())"
   ]
  },
  {
   "cell_type": "code",
   "execution_count": 17,
   "id": "36ee5fef-82f1-4517-8498-73af6f3d19db",
   "metadata": {},
   "outputs": [],
   "source": [
    "def get_recommendation_svd(user_id, n=5):\n",
    "    '''Give n recommendation to user_id'''\n",
    "    \n",
    "    all_books, user_books =  book_read(user_id)\n",
    "    next_books = [i for i in all_books if i not in user_books]\n",
    "    \n",
    "    if n <= len(next_books):\n",
    "        ratings = []\n",
    "        for i in next_books:\n",
    "            est = svd.predict(user_id, i).est\n",
    "            ratings.append((i, est))\n",
    "        ratings = sorted(ratings, key=lambda x: x[1], reverse=True)\n",
    "        book_ids = [id for id, rate in ratings[:n]]\n",
    "        return book[book.book_id.isin(book_ids)][['book_id', 'title', 'authors', 'average_rating', 'ratings_count']]\n",
    "    else:\n",
    "        print('Please reduce your recommendation request')\n",
    "        return"
   ]
  },
  {
   "cell_type": "code",
   "execution_count": 18,
   "id": "01919a68-209a-4393-9660-370f200c6970",
   "metadata": {},
   "outputs": [
    {
     "data": {
      "text/html": [
       "<div>\n",
       "<style scoped>\n",
       "    .dataframe tbody tr th:only-of-type {\n",
       "        vertical-align: middle;\n",
       "    }\n",
       "\n",
       "    .dataframe tbody tr th {\n",
       "        vertical-align: top;\n",
       "    }\n",
       "\n",
       "    .dataframe thead th {\n",
       "        text-align: right;\n",
       "    }\n",
       "</style>\n",
       "<table border=\"1\" class=\"dataframe\">\n",
       "  <thead>\n",
       "    <tr style=\"text-align: right;\">\n",
       "      <th></th>\n",
       "      <th>book_id</th>\n",
       "      <th>title</th>\n",
       "      <th>authors</th>\n",
       "      <th>average_rating</th>\n",
       "      <th>ratings_count</th>\n",
       "    </tr>\n",
       "  </thead>\n",
       "  <tbody>\n",
       "    <tr>\n",
       "      <th>27</th>\n",
       "      <td>31</td>\n",
       "      <td>the help</td>\n",
       "      <td>Kathryn Stockett</td>\n",
       "      <td>4.45</td>\n",
       "      <td>1531753</td>\n",
       "    </tr>\n",
       "    <tr>\n",
       "      <th>194</th>\n",
       "      <td>215</td>\n",
       "      <td>ready player one</td>\n",
       "      <td>Ernest Cline</td>\n",
       "      <td>4.31</td>\n",
       "      <td>349423</td>\n",
       "    </tr>\n",
       "    <tr>\n",
       "      <th>226</th>\n",
       "      <td>250</td>\n",
       "      <td>wonder</td>\n",
       "      <td>R.J. Palacio</td>\n",
       "      <td>4.43</td>\n",
       "      <td>228538</td>\n",
       "    </tr>\n",
       "    <tr>\n",
       "      <th>390</th>\n",
       "      <td>425</td>\n",
       "      <td>go ask alice</td>\n",
       "      <td>Beatrice Sparks</td>\n",
       "      <td>3.77</td>\n",
       "      <td>196677</td>\n",
       "    </tr>\n",
       "    <tr>\n",
       "      <th>1698</th>\n",
       "      <td>1808</td>\n",
       "      <td>morning star (red rising, #3)</td>\n",
       "      <td>Pierce Brown</td>\n",
       "      <td>4.50</td>\n",
       "      <td>47736</td>\n",
       "    </tr>\n",
       "  </tbody>\n",
       "</table>\n",
       "</div>"
      ],
      "text/plain": [
       "      book_id                          title           authors  \\\n",
       "27         31                       the help  Kathryn Stockett   \n",
       "194       215               ready player one      Ernest Cline   \n",
       "226       250                         wonder      R.J. Palacio   \n",
       "390       425                   go ask alice   Beatrice Sparks   \n",
       "1698     1808  morning star (red rising, #3)      Pierce Brown   \n",
       "\n",
       "      average_rating  ratings_count  \n",
       "27              4.45        1531753  \n",
       "194             4.31         349423  \n",
       "226             4.43         228538  \n",
       "390             3.77         196677  \n",
       "1698            4.50          47736  "
      ]
     },
     "execution_count": 18,
     "metadata": {},
     "output_type": "execute_result"
    }
   ],
   "source": [
    "get_recommendation_svd(12874, 5)"
   ]
  },
  {
   "cell_type": "markdown",
   "id": "2de7d44d-726d-46ce-ada0-773360a8cfbd",
   "metadata": {},
   "source": [
    "### d. SVD++"
   ]
  },
  {
   "cell_type": "markdown",
   "id": "7bc198f2-2292-43af-b728-f2d931a6aa60",
   "metadata": {},
   "source": [
    "The singular value decomposition (SVD)++ algorithm is employed as an optimized SVD algorithm to enhance the accuracy of prediction by generating implicit feedback"
   ]
  },
  {
   "cell_type": "code",
   "execution_count": 19,
   "id": "2dcad385-237e-4dd1-b8e7-45b8d40956e7",
   "metadata": {},
   "outputs": [],
   "source": [
    "#change data to trainset\n",
    "data.raw_ratings = train_ratings \n",
    "\n",
    "#select algorithm\n",
    "svdpp = SVDpp(random_state=0)"
   ]
  },
  {
   "cell_type": "code",
   "execution_count": 20,
   "id": "9fc4ae99-c650-41be-9f63-496a233694ca",
   "metadata": {},
   "outputs": [
    {
     "name": "stdout",
     "output_type": "stream",
     "text": [
      "Evaluating RMSE of algorithm SVDpp on 5 split(s).\n",
      "\n",
      "                  Fold 1  Fold 2  Fold 3  Fold 4  Fold 5  Mean    Std     \n",
      "RMSE (testset)    0.8315  0.8321  0.8332  0.8340  0.8326  0.8327  0.0009  \n",
      "Fit time          979.43  976.73  556.63  552.31  390.92  691.20  241.73  \n",
      "Test time         172.67  170.39  142.70  145.46  95.43   145.33  27.83   \n",
      "CPU times: total: 1min 42s\n",
      "Wall time: 40min 12s\n"
     ]
    }
   ],
   "source": [
    "%%time\n",
    "\n",
    "svdpp_result = cross_validate(svdpp, data, measures=[\"RMSE\"], cv=5, verbose=True, n_jobs = 2)"
   ]
  },
  {
   "cell_type": "code",
   "execution_count": 21,
   "id": "0387169c-4c49-4de9-aff4-fc0833e3acde",
   "metadata": {},
   "outputs": [
    {
     "name": "stdout",
     "output_type": "stream",
     "text": [
      "Train RMSE:\n",
      "RMSE: 0.7085\n",
      "Test RMSE:\n",
      "RMSE: 0.8238\n",
      "CPU times: total: 21min 26s\n",
      "Wall time: 30min 52s\n"
     ]
    }
   ],
   "source": [
    "%%time\n",
    "\n",
    "#retrain whole train test\n",
    "trainset = data.build_full_trainset()\n",
    "svdpp.fit(trainset)\n",
    "\n",
    "# Compute RMSE on trainset (without fold)\n",
    "svdpp_train_pred = svdpp.test(trainset.build_testset())\n",
    "print('Train RMSE:')\n",
    "train_rmse = accuracy.rmse(svdpp_train_pred)\n",
    "\n",
    "#compute RMSE on testset\n",
    "testset = data.construct_testset(test_ratings)\n",
    "svdpp_test_pred = svdpp.test(testset)\n",
    "print('Test RMSE:')\n",
    "test_rmse = accuracy.rmse(svdpp_test_pred)"
   ]
  },
  {
   "cell_type": "code",
   "execution_count": 22,
   "id": "4296ad1f-e9e1-47a7-947c-a609f661dba6",
   "metadata": {},
   "outputs": [],
   "source": [
    "# uncomment this code to dump the calculation result for future use\n",
    "# dump.dump('./dump_svdpp', svdpp_test_pred, svdpp)"
   ]
  },
  {
   "cell_type": "code",
   "execution_count": 23,
   "id": "de55d90c-4d5e-4895-9230-f5955a70e590",
   "metadata": {},
   "outputs": [
    {
     "name": "stdout",
     "output_type": "stream",
     "text": [
      "CPU times: total: 25min 7s\n",
      "Wall time: 39min 20s\n"
     ]
    },
    {
     "data": {
      "text/plain": [
       "<surprise.prediction_algorithms.matrix_factorization.SVDpp at 0x27266d94d10>"
      ]
     },
     "execution_count": 23,
     "metadata": {},
     "output_type": "execute_result"
    }
   ],
   "source": [
    "%%time\n",
    "\n",
    "data.raw_ratings = all_ratings\n",
    "svdpp.fit(data.build_full_trainset())"
   ]
  },
  {
   "cell_type": "code",
   "execution_count": 26,
   "id": "ce7dfa2c-6207-4c97-a978-ae3e23fc1d75",
   "metadata": {},
   "outputs": [],
   "source": [
    "def get_recommendation_svdpp(user_id, n=5):\n",
    "    '''Give n recommendation to user_id'''\n",
    "    \n",
    "    all_books, user_books =  book_read(user_id)\n",
    "    next_books = [i for i in all_books if i not in user_books]\n",
    "    \n",
    "    if n <= len(next_books):\n",
    "        ratings = []\n",
    "        for i in next_books:\n",
    "            est = svdpp.predict(user_id, i).est\n",
    "            ratings.append((i, est))\n",
    "        ratings = sorted(ratings, key=lambda x: x[1], reverse=True)\n",
    "        book_ids = [id for id, rate in ratings[:n]]\n",
    "        return book[book.book_id.isin(book_ids)][['book_id', 'title', 'authors', 'average_rating', 'ratings_count']]\n",
    "    else:\n",
    "        print('Please reduce your recommendation request')\n",
    "        return"
   ]
  },
  {
   "cell_type": "code",
   "execution_count": 27,
   "id": "186ee6a6-934c-438e-8513-1d9c0311b81d",
   "metadata": {},
   "outputs": [
    {
     "data": {
      "text/html": [
       "<div>\n",
       "<style scoped>\n",
       "    .dataframe tbody tr th:only-of-type {\n",
       "        vertical-align: middle;\n",
       "    }\n",
       "\n",
       "    .dataframe tbody tr th {\n",
       "        vertical-align: top;\n",
       "    }\n",
       "\n",
       "    .dataframe thead th {\n",
       "        text-align: right;\n",
       "    }\n",
       "</style>\n",
       "<table border=\"1\" class=\"dataframe\">\n",
       "  <thead>\n",
       "    <tr style=\"text-align: right;\">\n",
       "      <th></th>\n",
       "      <th>book_id</th>\n",
       "      <th>title</th>\n",
       "      <th>authors</th>\n",
       "      <th>average_rating</th>\n",
       "      <th>ratings_count</th>\n",
       "    </tr>\n",
       "  </thead>\n",
       "  <tbody>\n",
       "    <tr>\n",
       "      <th>27</th>\n",
       "      <td>31</td>\n",
       "      <td>the help</td>\n",
       "      <td>Kathryn Stockett</td>\n",
       "      <td>4.45</td>\n",
       "      <td>1531753</td>\n",
       "    </tr>\n",
       "    <tr>\n",
       "      <th>597</th>\n",
       "      <td>642</td>\n",
       "      <td>world without end (the kingsbridge series, #2)</td>\n",
       "      <td>Ken Follett</td>\n",
       "      <td>4.23</td>\n",
       "      <td>128715</td>\n",
       "    </tr>\n",
       "    <tr>\n",
       "      <th>1243</th>\n",
       "      <td>1328</td>\n",
       "      <td>i am pilgrim (pilgrim, #1)</td>\n",
       "      <td>Terry Hayes</td>\n",
       "      <td>4.23</td>\n",
       "      <td>49740</td>\n",
       "    </tr>\n",
       "    <tr>\n",
       "      <th>4310</th>\n",
       "      <td>4778</td>\n",
       "      <td>the holy bible: english standard version</td>\n",
       "      <td>Anonymous</td>\n",
       "      <td>4.66</td>\n",
       "      <td>17863</td>\n",
       "    </tr>\n",
       "    <tr>\n",
       "      <th>5302</th>\n",
       "      <td>5990</td>\n",
       "      <td>الطنطورية</td>\n",
       "      <td>Radwa Ashour</td>\n",
       "      <td>4.32</td>\n",
       "      <td>13931</td>\n",
       "    </tr>\n",
       "  </tbody>\n",
       "</table>\n",
       "</div>"
      ],
      "text/plain": [
       "      book_id                                           title  \\\n",
       "27         31                                        the help   \n",
       "597       642  world without end (the kingsbridge series, #2)   \n",
       "1243     1328                      i am pilgrim (pilgrim, #1)   \n",
       "4310     4778        the holy bible: english standard version   \n",
       "5302     5990                                       الطنطورية   \n",
       "\n",
       "               authors  average_rating  ratings_count  \n",
       "27    Kathryn Stockett            4.45        1531753  \n",
       "597        Ken Follett            4.23         128715  \n",
       "1243       Terry Hayes            4.23          49740  \n",
       "4310         Anonymous            4.66          17863  \n",
       "5302      Radwa Ashour            4.32          13931  "
      ]
     },
     "execution_count": 27,
     "metadata": {},
     "output_type": "execute_result"
    }
   ],
   "source": [
    "get_recommendation_svdpp(12874, 5)"
   ]
  },
  {
   "cell_type": "markdown",
   "id": "7c994c84-94f6-462c-91d0-9e5b0a9f6311",
   "metadata": {},
   "source": [
    "### e. Evaluation"
   ]
  },
  {
   "cell_type": "code",
   "execution_count": 36,
   "id": "ccade315-4017-43ed-9d9c-28bc6eeefe98",
   "metadata": {},
   "outputs": [],
   "source": [
    "#uncomment this code to load the dump file\n",
    "# np_test_pred, npred = dump.load('./dump_np')\n",
    "# knn_test_pred, knn = dump.load('./dump_knn')\n",
    "svd_test_pred, svd = dump.load('./dump_svd')\n",
    "# svdpp_test_pred, svdpp = dump.load('./dump_svdpp')"
   ]
  },
  {
   "cell_type": "code",
   "execution_count": 37,
   "id": "5b1f87a3-c007-41cc-a352-7a2dda403631",
   "metadata": {},
   "outputs": [],
   "source": [
    "#making the calculation reult into dataframe\n",
    "df_np = pd.DataFrame(np_test_pred, columns=['uid', 'iid', 'rui', 'est', 'details'])\n",
    "df_knn = pd.DataFrame(knn_test_pred, columns=['uid', 'iid', 'rui', 'est', 'details'])\n",
    "df_svd = pd.DataFrame(svd_test_pred, columns=['uid', 'iid', 'rui', 'est', 'details'])  \n",
    "df_svdpp = pd.DataFrame(svdpp_test_pred, columns=['uid', 'iid', 'rui', 'est', 'details'])"
   ]
  },
  {
   "cell_type": "markdown",
   "id": "bb960e75-3d4d-4edd-b7c1-c428cc1805d4",
   "metadata": {},
   "source": [
    "#### Comparing RMSE, Duration and Memory Use"
   ]
  },
  {
   "cell_type": "code",
   "execution_count": 38,
   "id": "63e78dfa-1904-4a78-8f72-a453778660f3",
   "metadata": {},
   "outputs": [
    {
     "data": {
      "text/html": [
       "<div>\n",
       "<style scoped>\n",
       "    .dataframe tbody tr th:only-of-type {\n",
       "        vertical-align: middle;\n",
       "    }\n",
       "\n",
       "    .dataframe tbody tr th {\n",
       "        vertical-align: top;\n",
       "    }\n",
       "\n",
       "    .dataframe thead th {\n",
       "        text-align: right;\n",
       "    }\n",
       "</style>\n",
       "<table border=\"1\" class=\"dataframe\">\n",
       "  <thead>\n",
       "    <tr style=\"text-align: right;\">\n",
       "      <th></th>\n",
       "      <th>Model</th>\n",
       "      <th>RMSE</th>\n",
       "      <th>Duration</th>\n",
       "      <th>Memory Use</th>\n",
       "    </tr>\n",
       "  </thead>\n",
       "  <tbody>\n",
       "    <tr>\n",
       "      <th>0</th>\n",
       "      <td>NP</td>\n",
       "      <td>1.3236</td>\n",
       "      <td>2m 55s</td>\n",
       "      <td>8.7</td>\n",
       "    </tr>\n",
       "    <tr>\n",
       "      <th>1</th>\n",
       "      <td>KNN</td>\n",
       "      <td>0.8851</td>\n",
       "      <td>15m 15s</td>\n",
       "      <td>16.0</td>\n",
       "    </tr>\n",
       "    <tr>\n",
       "      <th>2</th>\n",
       "      <td>SVD</td>\n",
       "      <td>0.8386</td>\n",
       "      <td>5m 58s</td>\n",
       "      <td>8.8</td>\n",
       "    </tr>\n",
       "    <tr>\n",
       "      <th>3</th>\n",
       "      <td>SVD++</td>\n",
       "      <td>0.8238</td>\n",
       "      <td>30m 58s</td>\n",
       "      <td>8.4</td>\n",
       "    </tr>\n",
       "  </tbody>\n",
       "</table>\n",
       "</div>"
      ],
      "text/plain": [
       "   Model    RMSE Duration  Memory Use\n",
       "0     NP  1.3236   2m 55s         8.7\n",
       "1    KNN  0.8851  15m 15s        16.0\n",
       "2    SVD  0.8386   5m 58s         8.8\n",
       "3  SVD++  0.8238  30m 58s         8.4"
      ]
     },
     "execution_count": 38,
     "metadata": {},
     "output_type": "execute_result"
    }
   ],
   "source": [
    "data = [['NP', 1.3236, '2m 55s', 8.7], ['KNN', 0.8851, '15m 15s', 16], ['SVD', 0.8386, '5m 58s', 8.8],  ['SVD++', 0.8238, '30m 58s', 8.4]]\n",
    "df = pd.DataFrame(data, columns=['Model', 'RMSE', 'Duration', 'Memory Use'])\n",
    "df"
   ]
  },
  {
   "cell_type": "markdown",
   "id": "e7700036-7a23-4314-9677-7e8ee5083871",
   "metadata": {},
   "source": [
    "By comparing the metric evaluation of four model, we get the lowest RMSE in SVD++. However, although SVD++ shows lower RMSE results, it takes a very long time to do the calculations. If we look at the rating predictions, the distribution of ratings on SVD and SVD++ is not much different. \n",
    "\n",
    "**Why KNN took longer time to run?** <br>\n",
    "The singular value decomposition (SVD)++ algorithm enhances the accuracy of prediction by generating implicit feedback so it takes considerably longer time to train, compared to the SVD.\n",
    "\n",
    "**Why KNN requires lot of memory?** <br>\n",
    "K-nearest neighbor (KNN) needs a lot of memory, since the recommendation systems rely on storing a sizable dataset of items and their properties in order to create suggestions. When a new item is added or a recommendation is needed, the KNN method must scan the entire dataset to discover the closest neighbors, which can be computationally intensive and demand a lot of memory."
   ]
  },
  {
   "cell_type": "markdown",
   "id": "8768721f-3597-4b60-adf7-d6c28c4ed5ce",
   "metadata": {},
   "source": [
    "#### Comparing Prediction Distribution"
   ]
  },
  {
   "cell_type": "code",
   "execution_count": 41,
   "id": "33f4575e-20e2-46a5-8bf6-1581726581e8",
   "metadata": {},
   "outputs": [
    {
     "data": {
      "image/png": "[encoded data removed]",
      "text/plain": [
       "<Figure size 1600x500 with 4 Axes>"
      ]
     },
     "metadata": {},
     "output_type": "display_data"
    }
   ],
   "source": [
    "# Count the number of predictions for each rating value\n",
    "figure, (ax1, ax2, ax3, ax4) = plt.subplots(1, 4,  figsize=(16, 5), sharey=True, constrained_layout=True)\n",
    "df_np.est.plot(kind='hist', title='NP', ax=ax1, color='#45818E')\n",
    "df_knn.est.plot(kind='hist', title='KNN', ax=ax2, color='#9D5353')\n",
    "df_svd.est.plot(kind='hist', title='SVD', ax=ax3, color='#92BA92')\n",
    "df_svdpp.est.plot(kind='hist', title='SVDpp', ax=ax4, color='#F3936B')\n",
    "current_values = plt.gca().get_yticks() / 1000\n",
    "plt.gca().set_yticklabels(['{:,.0f}'.format(x) + 'K' for x in current_values])\n",
    "plt.suptitle('Prediction Distribution in Each Model', weight='bold', fontsize=20)\n",
    "plt.show()"
   ]
  },
  {
   "cell_type": "code",
   "execution_count": 42,
   "id": "63d553ef-a3cf-4948-8a8d-fafc40cc9d51",
   "metadata": {},
   "outputs": [
    {
     "data": {
      "image/png": "[encoded data removed]",
      "text/plain": [
       "<Figure size 800x600 with 1 Axes>"
      ]
     },
     "metadata": {},
     "output_type": "display_data"
    }
   ],
   "source": [
    "fig, ax = plt.subplots(figsize=(8,6))\n",
    "sns.kdeplot(df_np['est'], shade=False, color='#45818E', label = 'NP', ax=ax)\n",
    "sns.kdeplot(df_knn['est'], shade=False, color='#9D5353', label = 'KNN', ax=ax)\n",
    "sns.kdeplot(df_svd['est'], shade=False, color='#92BA92', label = 'SVD', ax=ax)\n",
    "sns.kdeplot(df_svdpp['est'], shade=False, color='#F3936B', label = 'SVDpp', ax=ax)\n",
    "ax.legend()\n",
    "plt.xlabel('Rating prediction')\n",
    "plt.ylabel('Density')\n",
    "plt.title('Comparison of rating estimation in each model', weight='bold', fontsize=14)\n",
    "plt.show()"
   ]
  },
  {
   "cell_type": "markdown",
   "id": "a82955b4-9e41-49bc-9444-2f7720314692",
   "metadata": {},
   "source": [
    "As we can see, Normal Predictor model predicts higher ratings more often, meanwhile KNN predictions are concentrated around the mean. For SVD and SVD++, the ratings are more fairly distributed."
   ]
  },
  {
   "cell_type": "markdown",
   "id": "defcedee-5637-4a60-9678-cf83b874f325",
   "metadata": {},
   "source": [
    "Based on our comparison, we choose SVD as the best model. SVD was chosen because it has a relatively low RMSE value, relatively short processing time and the memory used is not too large.<br>\n",
    "To tune the hyperparameter, we can utilize grid search, an optimization technique that explores all possibilities of the provided hyperparameter options. The parameters that will be tuned are:\n",
    "- n_epochs: the number of iterations of the SGD procedure\n",
    "- lr_all: the learning rate for all parameters\n",
    "- reg_all: the regularization term for all parameters"
   ]
  },
  {
   "cell_type": "code",
   "execution_count": 43,
   "id": "e349a504-3862-4b9d-b835-398a2946b629",
   "metadata": {},
   "outputs": [
    {
     "ename": "AttributeError",
     "evalue": "'list' object has no attribute 'raw_ratings'",
     "output_type": "error",
     "traceback": [
      "\u001b[1;31m---------------------------------------------------------------------------\u001b[0m",
      "\u001b[1;31mAttributeError\u001b[0m                            Traceback (most recent call last)",
      "Cell \u001b[1;32mIn[43], line 2\u001b[0m\n\u001b[0;32m      1\u001b[0m \u001b[38;5;66;03m# prepare train data\u001b[39;00m\n\u001b[1;32m----> 2\u001b[0m \u001b[43mdata\u001b[49m\u001b[38;5;241;43m.\u001b[39;49m\u001b[43mraw_ratings\u001b[49m \u001b[38;5;241m=\u001b[39m train_ratings\n",
      "\u001b[1;31mAttributeError\u001b[0m: 'list' object has no attribute 'raw_ratings'"
     ]
    }
   ],
   "source": [
    "# prepare train data\n",
    "data.raw_ratings = train_ratings"
   ]
  },
  {
   "cell_type": "code",
   "execution_count": null,
   "id": "b6a138a6-1fff-4c03-b408-6bc7885ae89a",
   "metadata": {},
   "outputs": [],
   "source": [
    "%%time\n",
    "\n",
    "grid = {'n_epochs': [20, 30], \n",
    "        'lr_all': [.005, .001], \n",
    "        'reg_all': [0.02, 0.04]} \n",
    "\n",
    "gs = GridSearchCV(SVD, grid, measures=['RMSE'], cv=5, n_jobs=2)\n",
    "gs.fit(data)\n",
    "\n",
    "print(gs.best_score['rmse'])\n",
    "print(gs.best_params['rmse'])"
   ]
  },
  {
   "cell_type": "code",
   "execution_count": null,
   "id": "8a0f7c74-081f-4d6b-af98-53f230dd67c6",
   "metadata": {},
   "outputs": [],
   "source": [
    "#select best algorithm\n",
    "svdtuned = gs.best_estimator['rmse']"
   ]
  },
  {
   "cell_type": "code",
   "execution_count": null,
   "id": "02efd908-ebda-49de-896b-5dc93c066e7c",
   "metadata": {},
   "outputs": [],
   "source": [
    "%%time\n",
    "\n",
    "#retrain whole train test (without fold)\n",
    "trainset = data.build_full_trainset()\n",
    "svdtuned.fit(trainset)\n",
    "\n",
    "# Compute RMSE on trainset (without fold)\n",
    "svdtuned_train_pred = svdtuned.test(trainset.build_testset())\n",
    "print('Train RMSE:')\n",
    "train_rmse = accuracy.rmse(svdtuned_train_pred)\n",
    "\n",
    "#compute RMSE on testset\n",
    "testset = data.construct_testset(test_ratings)\n",
    "svdtuned_test_pred = svdtuned.test(testset)\n",
    "print('Test RMSE:')\n",
    "test_rmse = accuracy.rmse(svdtuned_test_pred)"
   ]
  },
  {
   "cell_type": "code",
   "execution_count": null,
   "id": "b3998e3b-5302-43ac-aab7-cbb22445b18a",
   "metadata": {},
   "outputs": [],
   "source": [
    "%%time\n",
    "\n",
    "data.raw_ratings = all_ratings\n",
    "svdtuned.fit(data.build_full_trainset())"
   ]
  },
  {
   "cell_type": "code",
   "execution_count": null,
   "id": "90e77d21-b2bb-4910-b248-ae31593a46ec",
   "metadata": {},
   "outputs": [],
   "source": [
    "def get_recommendation(user_id, n=5):\n",
    "    '''Give n recommendation to user_id'''\n",
    "    \n",
    "    all_books, user_books =  book_read(user_id)\n",
    "    next_books = [book for book in all_books if book not in user_books]\n",
    "    \n",
    "    if n <= len(next_books):\n",
    "        ratings = []\n",
    "        for book in next_books:\n",
    "            est = svdtuned.predict(user_id, book).est\n",
    "            ratings.append((book, est))\n",
    "        ratings = sorted(ratings, key=lambda x: x[1], reverse=True)\n",
    "        book_ids = [id for id, rate in ratings[:n]]\n",
    "        return b[b.book_id.isin(book_ids)][['book_id', 'title', 'authors', 'average_rating', 'ratings_count']]\n",
    "    else:\n",
    "        print('Please reduce your recommendation request')\n",
    "        return"
   ]
  },
  {
   "cell_type": "code",
   "execution_count": null,
   "id": "b956e539-9d03-48ec-aa66-56222b4c8587",
   "metadata": {},
   "outputs": [],
   "source": [
    "get_recommendation(12874, 5)"
   ]
  },
  {
   "cell_type": "code",
   "execution_count": null,
   "id": "2bbe33f2-cf6e-4341-bcad-17df9d7d90f5",
   "metadata": {},
   "outputs": [],
   "source": [
    "# uncomment this code to dump the calculation result for future use\n",
    "dump.dump('./dump_tuning', svdtuned_test_pred, svdtuned)"
   ]
  },
  {
   "cell_type": "code",
   "execution_count": null,
   "id": "d453ad28-4361-4333-8435-93d9e8fadbaf",
   "metadata": {},
   "outputs": [],
   "source": [
    "# uncomment this code to load the dump file\n",
    "svd_test_pred, svd = dump.load('./dump_svd')\n",
    "svdtuned_test_pred, svdtuned = dump.load('./dump_tuning')"
   ]
  },
  {
   "cell_type": "code",
   "execution_count": 44,
   "id": "4f47aa7f-9d34-43b0-bae0-1d863a09ba73",
   "metadata": {},
   "outputs": [
    {
     "ename": "NameError",
     "evalue": "name 'svdtuned_test_pred' is not defined",
     "output_type": "error",
     "traceback": [
      "\u001b[1;31m---------------------------------------------------------------------------\u001b[0m",
      "\u001b[1;31mNameError\u001b[0m                                 Traceback (most recent call last)",
      "Cell \u001b[1;32mIn[44], line 2\u001b[0m\n\u001b[0;32m      1\u001b[0m df_svd \u001b[38;5;241m=\u001b[39m pd\u001b[38;5;241m.\u001b[39mDataFrame(svd_test_pred, columns\u001b[38;5;241m=\u001b[39m[\u001b[38;5;124m'\u001b[39m\u001b[38;5;124muid\u001b[39m\u001b[38;5;124m'\u001b[39m, \u001b[38;5;124m'\u001b[39m\u001b[38;5;124miid\u001b[39m\u001b[38;5;124m'\u001b[39m, \u001b[38;5;124m'\u001b[39m\u001b[38;5;124mrui\u001b[39m\u001b[38;5;124m'\u001b[39m, \u001b[38;5;124m'\u001b[39m\u001b[38;5;124mest\u001b[39m\u001b[38;5;124m'\u001b[39m, \u001b[38;5;124m'\u001b[39m\u001b[38;5;124mdetails\u001b[39m\u001b[38;5;124m'\u001b[39m])\n\u001b[1;32m----> 2\u001b[0m df_svdtuned \u001b[38;5;241m=\u001b[39m pd\u001b[38;5;241m.\u001b[39mDataFrame(\u001b[43msvdtuned_test_pred\u001b[49m, columns\u001b[38;5;241m=\u001b[39m[\u001b[38;5;124m'\u001b[39m\u001b[38;5;124muid\u001b[39m\u001b[38;5;124m'\u001b[39m, \u001b[38;5;124m'\u001b[39m\u001b[38;5;124miid\u001b[39m\u001b[38;5;124m'\u001b[39m, \u001b[38;5;124m'\u001b[39m\u001b[38;5;124mrui\u001b[39m\u001b[38;5;124m'\u001b[39m, \u001b[38;5;124m'\u001b[39m\u001b[38;5;124mest\u001b[39m\u001b[38;5;124m'\u001b[39m, \u001b[38;5;124m'\u001b[39m\u001b[38;5;124mdetails\u001b[39m\u001b[38;5;124m'\u001b[39m])\n",
      "\u001b[1;31mNameError\u001b[0m: name 'svdtuned_test_pred' is not defined"
     ]
    }
   ],
   "source": [
    "df_svd = pd.DataFrame(svd_test_pred, columns=['uid', 'iid', 'rui', 'est', 'details'])\n",
    "df_svdtuned = pd.DataFrame(svdtuned_test_pred, columns=['uid', 'iid', 'rui', 'est', 'details'])"
   ]
  },
  {
   "cell_type": "code",
   "execution_count": null,
   "id": "e7688646-c0d1-45ae-a950-097e1f92fe35",
   "metadata": {},
   "outputs": [],
   "source": [
    "fig, ax = plt.subplots(figsize=(8,6))\n",
    "sns.kdeplot(df_svd['est'], shade=False, color='#92BA92', label = 'SVD', ax=ax)\n",
    "sns.kdeplot(df_svdtuned['est'], shade=False, color='#DEBA9D', label = 'Tuned SVD', ax=ax)\n",
    "ax.legend()\n",
    "plt.xlabel('Rating prediction')\n",
    "plt.ylabel('Density')\n",
    "plt.title('Comparison of rating estimation in SVD and Tuned SVD')\n",
    "plt.show()"
   ]
  },
  {
   "cell_type": "markdown",
   "id": "ac1641af-31a5-4c76-a6ac-5b6e893684c6",
   "metadata": {},
   "source": [
    "Rating prediction around the mean is higher in tuned SVD. This is probably as a result of higher reg_all, so the parameter are regularized."
   ]
  },
  {
   "cell_type": "markdown",
   "id": "ce13f619-511a-402b-a5df-f572782daffe",
   "metadata": {},
   "source": [
    "## Conclusion"
   ]
  },
  {
   "cell_type": "markdown",
   "id": "7cb53c95-925a-4f5e-b982-8c2f853ccb9e",
   "metadata": {},
   "source": [
    "1. **Simple Recommender** <br>\n",
    "Like the name suggests, this model offers the simple recommendation.  This model does not provide user-spesific recommendations but suitable for new user (have no cold-start problem). Cold problem refers to a problem when the system is unable to draw any conclusions about users or objects because it has not yet acquired enough data.\n",
    "\n",
    "\n",
    "2. **Content based filtering** <br>\n",
    "Recommendations based on title, authors, description, and genre using cosine similarity have been made. To provide a balance of book recommendations, an additional popularity-rating filter has been added. This method is suitable for people who are looking for books that are similar to their favorite books, but this system cannot capture tastes and provide recommendations across genres.\n",
    "By applying a content based model, instead of having to rate 30 books to start the recommendation engine, users can just pick one book they liked for Goodreads to provide good recommendations for new users, making the process easier.\n",
    "\n",
    "\n",
    "3. **Collaborative Filtering**<br>\n",
    "By using Surprise library, I tried building a recommender with 4 algorithms: Normal Predictor, KNN, SVD, and SVD++. SVD is suitable for making a recommendation system in Goodreads because of its lower RMSE, faster calculation and lower memory requirement unlike KNN. I think the RMSE value of 0.8 is still quite reasonable for a Goodreads rating.<br>\n",
    "Notice that Collaborative filtering doesn’t require features about the items or users to be known. We can only use rating data. However, this recommendation system need prior data and suffers cold start problem, for example when new user or new book added to the list. "
   ]
  },
  {
   "cell_type": "code",
   "execution_count": null,
   "id": "c4406cb7-040c-4705-a3ee-1a011620a67f",
   "metadata": {},
   "outputs": [],
   "source": []
  },
  {
   "cell_type": "code",
   "execution_count": null,
   "id": "38ddf2f2-5ef2-439a-8d67-53a3dd68e775",
   "metadata": {},
   "outputs": [],
   "source": []
  },
  {
   "cell_type": "code",
   "execution_count": null,
   "id": "2002a759-a141-4571-9b65-074f8a18f5d5",
   "metadata": {},
   "outputs": [],
   "source": []
  }
 ],
 "metadata": {
  "kernelspec": {
   "display_name": "Python 3 (ipykernel)",
   "language": "python",
   "name": "python3"
  },
  "language_info": {
   "codemirror_mode": {
    "name": "ipython",
    "version": 3
   },
   "file_extension": ".py",
   "mimetype": "text/x-python",
   "name": "python",
   "nbconvert_exporter": "python",
   "pygments_lexer": "ipython3",
   "version": "3.11.7"
  }
 },
 "nbformat": 4,
 "nbformat_minor": 5
}
